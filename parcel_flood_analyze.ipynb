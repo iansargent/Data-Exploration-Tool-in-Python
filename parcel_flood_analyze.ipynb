{
 "cells": [
  {
   "cell_type": "code",
   "execution_count": 2,
   "id": "3891bb54",
   "metadata": {},
   "outputs": [],
   "source": [
    "import geopandas as gpd"
   ]
  },
  {
   "cell_type": "code",
   "execution_count": null,
   "id": "b072d49d",
   "metadata": {},
   "outputs": [
    {
     "name": "stdout",
     "output_type": "stream",
     "text": [
      "   OBJECTID           SPAN     GLIST_SPAN       MAPID      PARCID PROPTYPE  \\\n",
      "0         1  090-028-10516  090-028-10516  MIDDST-01R  MIDDST.01R   PARCEL   \n",
      "1         2  090-028-10517  090-028-10517  00MTST-19L  00MTST.19L   PARCEL   \n",
      "2         3  144-045-10159  144-045-10159      140105      140105   PARCEL   \n",
      "3         4  144-045-10590  144-045-10590      442019      442019   PARCEL   \n",
      "4         5  090-028-10518  090-028-10518  00MTST-20L  00MTST.20L   PARCEL   \n",
      "\n",
      "   YEAR  GLYEAR      TOWN     TNAME  ... UVREDUC_HS UVREDUC_NR GLVAL_HS  \\\n",
      "0  2025  2024.0  BRIGHTON  Brighton  ...        0.0        0.0      0.0   \n",
      "1  2025  2024.0  BRIGHTON  Brighton  ...        0.0        0.0      0.0   \n",
      "2  2025  2024.0   CHESTER   Chester  ...        0.0        0.0   3158.0   \n",
      "3  2025  2024.0   CHESTER   Chester  ...        0.0        0.0   1548.0   \n",
      "4  2025  2024.0  BRIGHTON  Brighton  ...        0.0        0.0      0.0   \n",
      "\n",
      "  GLVAL_NR CRHOUSPCT MUNGL1PCT AOEGL_HS AOEGL_NR              E911ADDR  \\\n",
      "0    577.0       0.0     577.0      0.0    577.0          36 MIDDLE ST   \n",
      "1     54.0       0.0      54.0      0.0     54.0           MOUNTAIN ST   \n",
      "2   1281.0       0.0    4439.0   3158.0   1281.0    982 OLD STAGE ROAD   \n",
      "3      0.0       0.0    1548.0   1548.0      0.0  2012 VT RT 103 SOUTH   \n",
      "4    962.0       0.0     962.0      0.0    962.0       555 MOUNTAIN ST   \n",
      "\n",
      "                                            geometry  \n",
      "0  POLYGON ((-71.88186 44.81743, -71.88166 44.817...  \n",
      "1  POLYGON ((-71.8777 44.82383, -71.87808 44.8234...  \n",
      "2  POLYGON ((-72.63688 43.23453, -72.63693 43.234...  \n",
      "3  POLYGON ((-72.56041 43.23922, -72.56113 43.238...  \n",
      "4  POLYGON ((-71.87797 44.82416, -71.87758 44.823...  \n",
      "\n",
      "[5 rows x 56 columns]\n"
     ]
    }
   ],
   "source": [
    "parcel_gdf = gpd.read_file(\n",
    "    \"/Users/iansargent/Desktop/ORCA/Steamlit App Testing/VT_Parcel.geojson\"\n",
    ")"
   ]
  },
  {
   "cell_type": "code",
   "execution_count": null,
   "id": "58c6fc5e",
   "metadata": {},
   "outputs": [],
   "source": [
    "parcel_gdf = parcel_gdf[\n",
    "    [\n",
    "        \"SPAN\",\n",
    "        \"PARCID\",\n",
    "        \"TOWN\",\n",
    "        \"TNAME\",\n",
    "        \"DESCPROP\",\n",
    "        \"CAT\",\n",
    "        \"RESCODE\",\n",
    "        \"ACRESGL\",\n",
    "        \"REAL_FLV\",\n",
    "        \"NRES_FLV\",\n",
    "        \"LAND_LV\",\n",
    "        \"HSITEVAL\",\n",
    "        \"geometry\",\n",
    "    ]\n",
    "]"
   ]
  },
  {
   "cell_type": "code",
   "execution_count": null,
   "id": "fbbf202d",
   "metadata": {},
   "outputs": [
    {
     "name": "stdout",
     "output_type": "stream",
     "text": [
      "Index(['OBJECTID', 'FLD_ZONE', 'STUDY_TYP', 'ZONE_SUBTY', 'SFHA_TF',\n",
      "       'geometry'],\n",
      "      dtype='object')\n"
     ]
    }
   ],
   "source": [
    "flood_gdf = gpd.read_file(\n",
    "    \"/Users/iansargent/Desktop/ORCA/Steamlit App Testing/VT_Flood_Hazard.geojson\"\n",
    ")\n",
    "flood_gdf = flood_gdf[\n",
    "    [\"OBJECTID\", \"FLD_ZONE\", \"STUDY_TYP\", \"ZONE_SUBTY\", \"SFHA_TF\", \"geometry\"]\n",
    "]\n",
    "\n",
    "print(flood_gdf.columns)"
   ]
  },
  {
   "cell_type": "code",
   "execution_count": null,
   "id": "637f2ebd",
   "metadata": {},
   "outputs": [],
   "source": [
    "projected_crs = \"EPSG:3857\"\n",
    "\n",
    "parcels_proj = parcel_gdf.to_crs(projected_crs)\n",
    "flood_proj = flood_gdf.to_crs(projected_crs)\n",
    "\n",
    "parcel_flood = gpd.sjoin(parcels_proj, flood_proj, how=\"inner\", predicate=\"within\")"
   ]
  },
  {
   "cell_type": "code",
   "execution_count": null,
   "id": "0ce8b823",
   "metadata": {},
   "outputs": [],
   "source": [
    "parcel_flood = parcel_flood.drop_duplicates(subset=[\"PARCID\"])\n",
    "\n",
    "\n",
    "# Define risk zones\n",
    "high_risk_zones = [\"A\", \"AE\", \"AH\", \"AO\", \"V\", \"VE\"]\n",
    "low_moderate_risk_zones = [\"B\", \"X\"]\n",
    "\n",
    "# Filter flood zones by risk level\n",
    "high_risk_flood = parcel_flood[parcel_flood[\"FLD_ZONE\"].isin(high_risk_zones)]\n",
    "low_risk_flood = parcel_flood[parcel_flood[\"FLD_ZONE\"].isin(low_moderate_risk_zones)]\n",
    "\n",
    "\n",
    "# Calculate summary statistics\n",
    "def get_zone_stats(df, risk_level):\n",
    "    return {\n",
    "        \"Risk Level\": risk_level,\n",
    "        \"Zone Counts\": df[\"FLD_ZONE\"].value_counts().to_dict(),\n",
    "        \"Total Parcels\": df[\"PARCID\"].nunique(),\n",
    "        \"Total Value ($)\": df[\"REAL_FLV\"].sum(),\n",
    "        \"Avg Value per Parcel ($)\": df[\"REAL_FLV\"].mean(),\n",
    "        \"% of All Parcels\": f\"{(len(df) / len(parcel_flood)) * 100:.1f}%\",\n",
    "    }\n",
    "\n",
    "\n",
    "high_risk_stats = get_zone_stats(high_risk_flood, \"High Risk\")\n",
    "low_risk_stats = get_zone_stats(low_risk_flood, \"Low/Moderate Risk\")\n",
    "\n",
    "# Format and print results\n",
    "print(\"\\n\" + \"=\" * 50)\n",
    "print(\" \" * 15 + \"FLOOD RISK ANALYSIS REPORT\")\n",
    "print(\"=\" * 50 + \"\\n\")\n",
    "\n",
    "\n",
    "def print_stats(stats):\n",
    "    print(f\"\\n{stats['Risk Level']} Zones:\")\n",
    "    print(\"-\" * 40)\n",
    "    print(\"Zone Type Counts:\")\n",
    "    for zone, count in stats[\"Zone Counts\"].items():\n",
    "        print(f\"  {zone}: {count:,}\")\n",
    "\n",
    "    print(f\"\\nTotal Parcels: {stats['Total Parcels']:,}\")\n",
    "    print(f\"Total Assessed Value: ${stats['Total Value ($)']:,.2f}\")\n",
    "    print(f\"Average Value per Parcel: ${stats['Avg Value per Parcel ($)']:,.2f}\")\n",
    "    print(f\"Percentage of All Parcels: {stats['% of All Parcels']}\")\n",
    "\n",
    "\n",
    "print_stats(high_risk_stats)\n",
    "print_stats(low_risk_stats)\n",
    "\n",
    "# Print comparison summary\n",
    "print(\"\\n\" + \"=\" * 50)\n",
    "print(\"SUMMARY COMPARISON\")\n",
    "print(\"=\" * 50)\n",
    "print(\n",
    "    f\"\\nHigh Risk parcels represent {high_risk_stats['% of All Parcels']} of total parcels\"\n",
    ")\n",
    "print(f\"but account for ${high_risk_stats['Total Value ($)']:,.2f} in property value\")\n",
    "print(\n",
    "    f\"\\nAverage parcel value in High Risk zones: ${high_risk_stats['Avg Value per Parcel ($)']:,.2f}\"\n",
    ")\n",
    "print(\n",
    "    f\"Average parcel value in Low/Moderate Risk zones: ${low_risk_stats['Avg Value per Parcel ($)']:,.2f}\"\n",
    ")"
   ]
  }
 ],
 "metadata": {
  "kernelspec": {
   "display_name": "venv (3.10.6)",
   "language": "python",
   "name": "python3"
  },
  "language_info": {
   "codemirror_mode": {
    "name": "ipython",
    "version": 3
   },
   "file_extension": ".py",
   "mimetype": "text/x-python",
   "name": "python",
   "nbconvert_exporter": "python",
   "pygments_lexer": "ipython3",
   "version": "3.10.6"
  }
 },
 "nbformat": 4,
 "nbformat_minor": 5
}
